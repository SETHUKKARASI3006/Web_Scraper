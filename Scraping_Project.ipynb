{
 "cells": [
  {
   "cell_type": "code",
   "execution_count": 1,
   "id": "e175b9ea",
   "metadata": {},
   "outputs": [],
   "source": [
    "import undetected_chromedriver as uc\n",
    "from bs4 import BeautifulSoup\n",
    "import pandas as pd"
   ]
  },
  {
   "cell_type": "code",
   "execution_count": 2,
   "id": "af775e6b",
   "metadata": {},
   "outputs": [],
   "source": [
    "names = []\n",
    "prices = []\n",
    "ratings = []"
   ]
  },
  {
   "cell_type": "code",
   "execution_count": 3,
   "id": "c07cffad",
   "metadata": {},
   "outputs": [],
   "source": [
    "options = uc.ChromeOptions()\n",
    "driver = uc.Chrome(options=options)"
   ]
  },
  {
   "cell_type": "code",
   "execution_count": 4,
   "id": "162333c3",
   "metadata": {},
   "outputs": [
    {
     "name": "stdout",
     "output_type": "stream",
     "text": [
      "Page 1 | Found: 40 products\n",
      "Page 2 | Found: 40 products\n",
      "Page 3 | Found: 40 products\n",
      "Page 4 | Found: 40 products\n",
      "Page 5 | Found: 40 products\n",
      "Page 6 | Found: 40 products\n",
      "Page 7 | Found: 40 products\n",
      "Page 8 | Found: 40 products\n",
      "Page 9 | Found: 40 products\n",
      "Page 10 | Found: 40 products\n",
      "Page 11 | Found: 40 products\n",
      "Page 12 | Found: 40 products\n",
      "Page 13 | Found: 40 products\n",
      "Page 14 | Found: 40 products\n",
      "Page 15 | Found: 40 products\n",
      "Page 16 | Found: 40 products\n",
      "Page 17 | Found: 40 products\n",
      "Page 18 | Found: 40 products\n",
      "Page 19 | Found: 40 products\n",
      "Page 20 | Found: 40 products\n",
      "Page 21 | Found: 40 products\n",
      "Page 22 | Found: 40 products\n",
      "Page 23 | Found: 40 products\n",
      "Page 24 | Found: 40 products\n",
      "Page 25 | Found: 40 products\n",
      "Page 26 | Found: 40 products\n",
      "Page 27 | Found: 40 products\n",
      "Page 28 | Found: 40 products\n",
      "Page 29 | Found: 40 products\n",
      "Page 30 | Found: 40 products\n",
      "Page 31 | Found: 40 products\n",
      "Page 32 | Found: 40 products\n",
      "Page 33 | Found: 40 products\n",
      "Page 34 | Found: 40 products\n",
      "Page 35 | Found: 40 products\n",
      "Page 36 | Found: 40 products\n",
      "Page 37 | Found: 40 products\n",
      "Page 38 | Found: 40 products\n",
      "Page 39 | Found: 40 products\n",
      "Page 40 | Found: 40 products\n",
      "Page 41 | Found: 40 products\n",
      "Page 42 | Found: 40 products\n",
      "Page 43 | Found: 40 products\n",
      "Page 44 | Found: 40 products\n",
      "Page 45 | Found: 40 products\n",
      "Page 46 | Found: 40 products\n",
      "Page 47 | Found: 40 products\n",
      "Page 48 | Found: 40 products\n",
      "Page 49 | Found: 40 products\n",
      "Page 50 | Found: 40 products\n"
     ]
    }
   ],
   "source": [
    "for page in range(1, 51):\n",
    "    url = f\"https://www.jumia.co.ke/all-products/?page={page}\"\n",
    "    driver.get(url)\n",
    "\n",
    "    soup = BeautifulSoup(driver.page_source, 'html.parser')\n",
    "    products = soup.find_all('article', class_='prd')\n",
    "    print(f\"Page {page} | Found: {len(products)} products\")\n",
    "\n",
    "    for pro in products:\n",
    "        name = pro.find('h3', class_='name').text.strip()\n",
    "        price = pro.find('div', class_='prc').text.strip()\n",
    "        try:\n",
    "            stars = pro.find('div', class_='stars _s').text.strip()\n",
    "\n",
    "        except:\n",
    "            stars = 'N/A'\n",
    "            \n",
    "        names.append(name)\n",
    "        prices.append(price)\n",
    "        ratings.append(stars)\n",
    "        \n",
    "driver.quit()"
   ]
  },
  {
   "cell_type": "code",
   "execution_count": 5,
   "id": "e0bb7111",
   "metadata": {},
   "outputs": [],
   "source": [
    "df = pd.DataFrame({\n",
    "    'Product Name': names,\n",
    "    'Price': prices,\n",
    "    'Rating': ratings\n",
    "})"
   ]
  },
  {
   "cell_type": "code",
   "execution_count": 6,
   "id": "4271be71",
   "metadata": {},
   "outputs": [
    {
     "name": "stdout",
     "output_type": "stream",
     "text": [
      "Scraping complete! Data saved to 'jumia_products.csv'.\n"
     ]
    }
   ],
   "source": [
    "df.to_csv('jumia_products.csv', index=False)\n",
    "print(\"Scraping complete! Data saved to 'jumia_products.csv'.\")"
   ]
  }
 ],
 "metadata": {
  "kernelspec": {
   "display_name": "Python 3 (ipykernel)",
   "language": "python",
   "name": "python3"
  },
  "language_info": {
   "codemirror_mode": {
    "name": "ipython",
    "version": 3
   },
   "file_extension": ".py",
   "mimetype": "text/x-python",
   "name": "python",
   "nbconvert_exporter": "python",
   "pygments_lexer": "ipython3",
   "version": "3.11.5"
  }
 },
 "nbformat": 4,
 "nbformat_minor": 5
}
